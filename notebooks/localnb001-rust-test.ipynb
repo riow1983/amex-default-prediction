{
 "cells": [
  {
   "cell_type": "code",
   "execution_count": 2,
   "metadata": {},
   "outputs": [],
   "source": [
    "let input_file = \"./input/amex-default-prediction/train_data.csv\";"
   ]
  },
  {
   "cell_type": "code",
   "execution_count": null,
   "metadata": {},
   "outputs": [],
   "source": [
    "use polars_core::prelude::*;\n",
    "use polars_io::prelude::*;\n",
    "use std::fs::File;"
   ]
  },
  {
   "cell_type": "code",
   "execution_count": 2,
   "metadata": {},
   "outputs": [
    {
     "ename": "Error",
     "evalue": "failed to resolve: use of undeclared type `CsvReader`",
     "output_type": "error",
     "traceback": [
      "    CsvReader::from_path(\"../input/amex-default-prediction/train_data.csv\")?",
      "\u001b[91m    ^^^^^^^^^\u001b[0m \u001b[94muse of undeclared type `CsvReader`\u001b[0m",
      "failed to resolve: use of undeclared type `CsvReader`"
     ]
    },
    {
     "ename": "Error",
     "evalue": "cannot find type `DataFrame` in this scope",
     "output_type": "error",
     "traceback": [
      "fn example() -> Result<DataFrame> {",
      "\u001b[91m                       ^^^^^^^^^\u001b[0m \u001b[94mnot found in this scope\u001b[0m",
      "cannot find type `DataFrame` in this scope",
      "\u001b[1mhelp\u001b[0m: you might be missing a type parameter\n\n<DataFrame>"
     ]
    },
    {
     "ename": "Error",
     "evalue": "this enum takes 2 generic arguments but 1 generic argument was supplied",
     "output_type": "error",
     "traceback": [
      "fn example() -> Result<DataFrame> {",
      "\u001b[91m                ^^^^^^\u001b[0m \u001b[94mexpected 2 generic arguments\u001b[0m",
      "fn example() -> Result<DataFrame> {",
      "\u001b[91m                       ^^^^^^^^^\u001b[0m \u001b[94msupplied 1 generic argument\u001b[0m",
      "this enum takes 2 generic arguments but 1 generic argument was supplied",
      "\u001b[1mhelp\u001b[0m: add missing generic argument\n\n, E"
     ]
    }
   ],
   "source": [
    "fn example() -> Result<DataFrame> {\n",
    "    CsvReader::from_path(\"../input/amex-default-prediction/train_data.csv\")?\n",
    "            .has_header(true)\n",
    "            .finish()\n",
    "}"
   ]
  },
  {
   "cell_type": "code",
   "execution_count": 5,
   "metadata": {},
   "outputs": [
    {
     "ename": "Error",
     "evalue": "failed to resolve: use of undeclared type `CsvReader`",
     "output_type": "error",
     "traceback": [
      "    CsvReader::new(file)",
      "\u001b[91m    ^^^^^^^^^\u001b[0m \u001b[94muse of undeclared type `CsvReader`\u001b[0m",
      "failed to resolve: use of undeclared type `CsvReader`"
     ]
    },
    {
     "ename": "Error",
     "evalue": "cannot find type `DataFrame` in this scope",
     "output_type": "error",
     "traceback": [
      "fn example() -> Result<DataFrame> {",
      "\u001b[91m                       ^^^^^^^^^\u001b[0m \u001b[94mnot found in this scope\u001b[0m",
      "cannot find type `DataFrame` in this scope",
      "\u001b[1mhelp\u001b[0m: you might be missing a type parameter\n\n<DataFrame>"
     ]
    },
    {
     "ename": "Error",
     "evalue": "failed to resolve: use of undeclared type `File`",
     "output_type": "error",
     "traceback": [
      "    let file = File::open(\"../input/amex-default-prediction/train_data.csv\").expect(\"could not open file\");",
      "\u001b[91m               ^^^^\u001b[0m \u001b[94mnot found in this scope\u001b[0m",
      "failed to resolve: use of undeclared type `File`",
      "\u001b[1mhelp\u001b[0m: consider importing this struct\n\nuse std::fs::File;"
     ]
    },
    {
     "ename": "Error",
     "evalue": "this enum takes 2 generic arguments but 1 generic argument was supplied",
     "output_type": "error",
     "traceback": [
      "fn example() -> Result<DataFrame> {",
      "\u001b[91m                ^^^^^^\u001b[0m \u001b[94mexpected 2 generic arguments\u001b[0m",
      "fn example() -> Result<DataFrame> {",
      "\u001b[91m                       ^^^^^^^^^\u001b[0m \u001b[94msupplied 1 generic argument\u001b[0m",
      "this enum takes 2 generic arguments but 1 generic argument was supplied",
      "\u001b[1mhelp\u001b[0m: add missing generic argument\n\n, E"
     ]
    }
   ],
   "source": [
    "fn example() -> Result<DataFrame> {\n",
    "    let file = File::open(\"../input/amex-default-prediction/train_data.csv\").expect(\"could not open file\");\n",
    "\n",
    "    CsvReader::new(file)\n",
    "            .infer_schema(None)\n",
    "            .has_header(true)\n",
    "            .finish()\n",
    "}"
   ]
  },
  {
   "cell_type": "code",
   "execution_count": 6,
   "metadata": {},
   "outputs": [
    {
     "ename": "Error",
     "evalue": "failed to resolve: use of undeclared crate or module `polars`",
     "output_type": "error",
     "traceback": [
      "use of undeclared crate or module `polars`",
      "failed to resolve: use of undeclared crate or module `polars`"
     ]
    },
    {
     "ename": "Error",
     "evalue": "failed to resolve: use of undeclared crate or module `polars`",
     "output_type": "error",
     "traceback": [
      "use of undeclared crate or module `polars`",
      "failed to resolve: use of undeclared crate or module `polars`"
     ]
    }
   ],
   "source": [
    "use polars::prelude::*;"
   ]
  },
  {
   "cell_type": "code",
   "execution_count": 4,
   "metadata": {},
   "outputs": [
    {
     "ename": "Error",
     "evalue": "failed to resolve: use of undeclared type `LazyCsvReader`",
     "output_type": "error",
     "traceback": [
      "    LazyCsvReader::new(&input_file.into())",
      "\u001b[91m    ^^^^^^^^^^^^^\u001b[0m \u001b[94muse of undeclared type `LazyCsvReader`\u001b[0m",
      "failed to resolve: use of undeclared type `LazyCsvReader`"
     ]
    },
    {
     "ename": "Error",
     "evalue": "cannot find type `DataFrame` in this scope",
     "output_type": "error",
     "traceback": [
      "fn example() -> Result<DataFrame> {",
      "\u001b[91m                       ^^^^^^^^^\u001b[0m \u001b[94mnot found in this scope\u001b[0m",
      "cannot find type `DataFrame` in this scope",
      "\u001b[1mhelp\u001b[0m: you might be missing a type parameter\n\n<DataFrame>"
     ]
    },
    {
     "ename": "Error",
     "evalue": "cannot find value `input_file` in this scope",
     "output_type": "error",
     "traceback": [
      "    LazyCsvReader::new(&input_file.into())",
      "\u001b[91m                        ^^^^^^^^^^\u001b[0m \u001b[94mnot found in this scope\u001b[0m",
      "cannot find value `input_file` in this scope"
     ]
    },
    {
     "ename": "Error",
     "evalue": "this enum takes 2 generic arguments but 1 generic argument was supplied",
     "output_type": "error",
     "traceback": [
      "fn example() -> Result<DataFrame> {",
      "\u001b[91m                ^^^^^^\u001b[0m \u001b[94mexpected 2 generic arguments\u001b[0m",
      "fn example() -> Result<DataFrame> {",
      "\u001b[91m                       ^^^^^^^^^\u001b[0m \u001b[94msupplied 1 generic argument\u001b[0m",
      "this enum takes 2 generic arguments but 1 generic argument was supplied",
      "\u001b[1mhelp\u001b[0m: add missing generic argument\n\n, E"
     ]
    }
   ],
   "source": [
    "fn example() -> Result<DataFrame> {\n",
    "    LazyCsvReader::new(&input_file.into())\n",
    "        .finish()\n",
    "}"
   ]
  },
  {
   "cell_type": "code",
   "execution_count": 4,
   "metadata": {},
   "outputs": [],
   "source": [
    "fn add(a: i32, b: i32) -> i32 {\n",
    "\ta + b\n",
    "}"
   ]
  },
  {
   "cell_type": "code",
   "execution_count": 5,
   "metadata": {},
   "outputs": [
    {
     "data": {
      "text/plain": [
       "3"
      ]
     },
     "execution_count": 5,
     "metadata": {},
     "output_type": "execute_result"
    }
   ],
   "source": [
    "add(1,2)"
   ]
  },
  {
   "cell_type": "code",
   "execution_count": null,
   "metadata": {},
   "outputs": [],
   "source": []
  }
 ],
 "metadata": {
  "kernelspec": {
   "display_name": "Rust",
   "language": "rust",
   "name": "rust"
  },
  "language_info": {
   "codemirror_mode": "rust",
   "file_extension": ".rs",
   "mimetype": "text/rust",
   "name": "Rust",
   "pygment_lexer": "rust",
   "version": ""
  }
 },
 "nbformat": 4,
 "nbformat_minor": 4
}
